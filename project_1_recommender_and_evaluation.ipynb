{
 "cells": [
  {
   "cell_type": "code",
   "execution_count": 1,
   "id": "alike-morgan",
   "metadata": {
    "ExecuteTime": {
     "end_time": "2023-05-05T17:26:59.520093100Z",
     "start_time": "2023-05-05T17:26:59.306863800Z"
    }
   },
   "outputs": [],
   "source": [
    "%matplotlib inline\n",
    "%load_ext autoreload\n",
    "%autoreload 2\n",
    "\n",
    "import numpy as np\n",
    "import pandas as pd\n",
    "import matplotlib.pyplot as plt\n",
    "import seaborn as sns\n",
    "from IPython.display import Markdown, display, HTML\n",
    "from collections import defaultdict\n",
    "\n",
    "# Fix the dying kernel problem (only a problem in some installations - you can remove it, if it works without it)\n",
    "import os\n",
    "os.environ['KMP_DUPLICATE_LIB_OK'] = 'True'"
   ]
  },
  {
   "cell_type": "markdown",
   "id": "blessed-knitting",
   "metadata": {},
   "source": [
    "# Load the dataset for recommenders"
   ]
  },
  {
   "cell_type": "code",
   "execution_count": 2,
   "id": "victorian-bottom",
   "metadata": {
    "ExecuteTime": {
     "end_time": "2023-05-05T17:26:59.742919800Z",
     "start_time": "2023-05-05T17:26:59.528092100Z"
    }
   },
   "outputs": [
    {
     "data": {
      "text/plain": "    user_id  item_id            term length_of_stay_bucket rate_plan  \\\n0         1        0  WinterVacation                 [2-3]  Standard   \n1         2        1  WinterVacation                 [2-3]  Standard   \n2         3        2  WinterVacation                 [2-3]  Standard   \n3         4        3  WinterVacation                 [4-7]  Standard   \n4         5        4  WinterVacation                 [4-7]  Standard   \n5         6        5          Easter                 [4-7]  Standard   \n6         7        6       OffSeason                 [2-3]  Standard   \n7         8        7      HighSeason                 [2-3]  Standard   \n8         9        8      HighSeason                 [2-3]  Standard   \n9         8        7      HighSeason                 [2-3]  Standard   \n10        8        8      HighSeason                 [2-3]  Standard   \n11       10        9      HighSeason                 [2-3]  Standard   \n12       11        9      HighSeason                 [2-3]  Standard   \n13       12       10      HighSeason               [8-inf]  Standard   \n14       15       11       LowSeason                 [2-3]  Standard   \n\n   room_segment n_people_bucket weekend_stay  \n0     [260-360]         [5-inf]         True  \n1     [160-260]           [3-4]         True  \n2     [160-260]           [2-2]        False  \n3       [0-160]           [3-4]         True  \n4       [0-160]           [2-2]         True  \n5     [160-260]         [5-inf]         True  \n6     [160-260]         [5-inf]         True  \n7     [160-260]           [1-1]         True  \n8       [0-160]           [1-1]         True  \n9     [160-260]           [1-1]         True  \n10      [0-160]           [1-1]         True  \n11    [260-360]           [3-4]         True  \n12    [260-360]           [3-4]         True  \n13    [360-500]           [3-4]         True  \n14    [260-360]         [5-inf]         True  ",
      "text/html": "<div>\n<style scoped>\n    .dataframe tbody tr th:only-of-type {\n        vertical-align: middle;\n    }\n\n    .dataframe tbody tr th {\n        vertical-align: top;\n    }\n\n    .dataframe thead th {\n        text-align: right;\n    }\n</style>\n<table border=\"1\" class=\"dataframe\">\n  <thead>\n    <tr style=\"text-align: right;\">\n      <th></th>\n      <th>user_id</th>\n      <th>item_id</th>\n      <th>term</th>\n      <th>length_of_stay_bucket</th>\n      <th>rate_plan</th>\n      <th>room_segment</th>\n      <th>n_people_bucket</th>\n      <th>weekend_stay</th>\n    </tr>\n  </thead>\n  <tbody>\n    <tr>\n      <th>0</th>\n      <td>1</td>\n      <td>0</td>\n      <td>WinterVacation</td>\n      <td>[2-3]</td>\n      <td>Standard</td>\n      <td>[260-360]</td>\n      <td>[5-inf]</td>\n      <td>True</td>\n    </tr>\n    <tr>\n      <th>1</th>\n      <td>2</td>\n      <td>1</td>\n      <td>WinterVacation</td>\n      <td>[2-3]</td>\n      <td>Standard</td>\n      <td>[160-260]</td>\n      <td>[3-4]</td>\n      <td>True</td>\n    </tr>\n    <tr>\n      <th>2</th>\n      <td>3</td>\n      <td>2</td>\n      <td>WinterVacation</td>\n      <td>[2-3]</td>\n      <td>Standard</td>\n      <td>[160-260]</td>\n      <td>[2-2]</td>\n      <td>False</td>\n    </tr>\n    <tr>\n      <th>3</th>\n      <td>4</td>\n      <td>3</td>\n      <td>WinterVacation</td>\n      <td>[4-7]</td>\n      <td>Standard</td>\n      <td>[0-160]</td>\n      <td>[3-4]</td>\n      <td>True</td>\n    </tr>\n    <tr>\n      <th>4</th>\n      <td>5</td>\n      <td>4</td>\n      <td>WinterVacation</td>\n      <td>[4-7]</td>\n      <td>Standard</td>\n      <td>[0-160]</td>\n      <td>[2-2]</td>\n      <td>True</td>\n    </tr>\n    <tr>\n      <th>5</th>\n      <td>6</td>\n      <td>5</td>\n      <td>Easter</td>\n      <td>[4-7]</td>\n      <td>Standard</td>\n      <td>[160-260]</td>\n      <td>[5-inf]</td>\n      <td>True</td>\n    </tr>\n    <tr>\n      <th>6</th>\n      <td>7</td>\n      <td>6</td>\n      <td>OffSeason</td>\n      <td>[2-3]</td>\n      <td>Standard</td>\n      <td>[160-260]</td>\n      <td>[5-inf]</td>\n      <td>True</td>\n    </tr>\n    <tr>\n      <th>7</th>\n      <td>8</td>\n      <td>7</td>\n      <td>HighSeason</td>\n      <td>[2-3]</td>\n      <td>Standard</td>\n      <td>[160-260]</td>\n      <td>[1-1]</td>\n      <td>True</td>\n    </tr>\n    <tr>\n      <th>8</th>\n      <td>9</td>\n      <td>8</td>\n      <td>HighSeason</td>\n      <td>[2-3]</td>\n      <td>Standard</td>\n      <td>[0-160]</td>\n      <td>[1-1]</td>\n      <td>True</td>\n    </tr>\n    <tr>\n      <th>9</th>\n      <td>8</td>\n      <td>7</td>\n      <td>HighSeason</td>\n      <td>[2-3]</td>\n      <td>Standard</td>\n      <td>[160-260]</td>\n      <td>[1-1]</td>\n      <td>True</td>\n    </tr>\n    <tr>\n      <th>10</th>\n      <td>8</td>\n      <td>8</td>\n      <td>HighSeason</td>\n      <td>[2-3]</td>\n      <td>Standard</td>\n      <td>[0-160]</td>\n      <td>[1-1]</td>\n      <td>True</td>\n    </tr>\n    <tr>\n      <th>11</th>\n      <td>10</td>\n      <td>9</td>\n      <td>HighSeason</td>\n      <td>[2-3]</td>\n      <td>Standard</td>\n      <td>[260-360]</td>\n      <td>[3-4]</td>\n      <td>True</td>\n    </tr>\n    <tr>\n      <th>12</th>\n      <td>11</td>\n      <td>9</td>\n      <td>HighSeason</td>\n      <td>[2-3]</td>\n      <td>Standard</td>\n      <td>[260-360]</td>\n      <td>[3-4]</td>\n      <td>True</td>\n    </tr>\n    <tr>\n      <th>13</th>\n      <td>12</td>\n      <td>10</td>\n      <td>HighSeason</td>\n      <td>[8-inf]</td>\n      <td>Standard</td>\n      <td>[360-500]</td>\n      <td>[3-4]</td>\n      <td>True</td>\n    </tr>\n    <tr>\n      <th>14</th>\n      <td>15</td>\n      <td>11</td>\n      <td>LowSeason</td>\n      <td>[2-3]</td>\n      <td>Standard</td>\n      <td>[260-360]</td>\n      <td>[5-inf]</td>\n      <td>True</td>\n    </tr>\n  </tbody>\n</table>\n</div>"
     },
     "metadata": {},
     "output_type": "display_data"
    }
   ],
   "source": [
    "interactions_df = pd.read_csv(os.path.join(\"hotel_data\", \"hotel_data_interactions_df.csv\"), index_col=0)\n",
    "\n",
    "base_item_features = ['term', 'length_of_stay_bucket', 'rate_plan', 'room_segment', 'n_people_bucket', 'weekend_stay']\n",
    "\n",
    "column_values_dict = {\n",
    "    'term': ['WinterVacation', 'Easter', 'OffSeason', 'HighSeason', 'LowSeason', 'MayLongWeekend', 'NewYear', 'Christmas'],\n",
    "    'length_of_stay_bucket': ['[0-1]', '[2-3]', '[4-7]', '[8-inf]'],\n",
    "    'rate_plan': ['Standard', 'Nonref'],\n",
    "    'room_segment': ['[0-160]', '[160-260]', '[260-360]', '[360-500]', '[500-900]'],\n",
    "    'n_people_bucket': ['[1-1]', '[2-2]', '[3-4]', '[5-inf]'],\n",
    "    'weekend_stay': ['True', 'False']\n",
    "}\n",
    "\n",
    "interactions_df['term'] = pd.Categorical(\n",
    "    interactions_df['term'], categories=column_values_dict['term'])\n",
    "interactions_df['length_of_stay_bucket'] = pd.Categorical(\n",
    "    interactions_df['length_of_stay_bucket'], categories=column_values_dict['length_of_stay_bucket'])\n",
    "interactions_df['rate_plan'] = pd.Categorical(\n",
    "    interactions_df['rate_plan'], categories=column_values_dict['rate_plan'])\n",
    "interactions_df['room_segment'] = pd.Categorical(\n",
    "    interactions_df['room_segment'], categories=column_values_dict['room_segment'])\n",
    "interactions_df['n_people_bucket'] = pd.Categorical(\n",
    "    interactions_df['n_people_bucket'], categories=column_values_dict['n_people_bucket'])\n",
    "interactions_df['weekend_stay'] = interactions_df['weekend_stay'].astype('str')\n",
    "interactions_df['weekend_stay'] = pd.Categorical(\n",
    "    interactions_df['weekend_stay'], categories=column_values_dict['weekend_stay'])\n",
    "\n",
    "display(interactions_df.head(15))"
   ]
  },
  {
   "cell_type": "markdown",
   "id": "realistic-third",
   "metadata": {},
   "source": [
    "# Define user features based on reservations\n",
    "\n",
    "The content-based recommenders will be forecasting the probability of interaction between user and item based on user features vector and item features vector:\n",
    "\n",
    "<center>\n",
    "$$\n",
    "    r_{u, i} = f(user\\_features, item\\_features)\n",
    "$$\n",
    "</center>\n",
    "\n",
    "<span style=\"color:red\"><font size=\"4\">**Task:**</font></span><br> \n",
    "Design numerical user features based on user reservations. Code the following method which for a given interactions DataFrame (it will be used in the fit method of the recommender) returns a DataFrame with user_id and user features as well as a list with names of user features (this will be important to select the right columns for an ML algorithm). Remember to name the columns differently than item features which you will create in the next task. Validate your features on users with several interactions (sample user ids are already given below).\n",
    "\n",
    "Ideas for user features:\n",
    "- Find the vector of most popular feature values from all user reservations and encode every feature with one-hot encoding.\n",
    "- For every reservation feature calculate the probability distribution of its values among all user's reservations.\n",
    "- For numerical buckets (length_of_stay, room_segment, n_people) you can calculate the average value for every user from their reservations (you will have to map the buckets back to numerical values before averaging them).\n",
    "\n",
    "Remember that you will have to select the best features (with the highest explanatory power). Using all above features at once would make the number of variables too large for this dataset and would also introduce too much correlations between features.\n",
    "\n",
    "You can also prepare several versions of the prepare_users_df method and test which works best in your recommender."
   ]
  },
  {
   "cell_type": "code",
   "execution_count": 3,
   "id": "variable-jaguar",
   "metadata": {
    "ExecuteTime": {
     "end_time": "2023-05-05T17:27:00.005217400Z",
     "start_time": "2023-05-05T17:26:59.743917500Z"
    }
   },
   "outputs": [
    {
     "name": "stdout",
     "output_type": "stream",
     "text": [
      "['user_term_WinterVacation', 'user_term_Easter', 'user_term_OffSeason', 'user_term_HighSeason', 'user_term_LowSeason', 'user_term_MayLongWeekend', 'user_term_NewYear', 'user_term_Christmas', 'user_length_of_stay_bucket_[0-1]', 'user_length_of_stay_bucket_[2-3]', 'user_length_of_stay_bucket_[4-7]', 'user_length_of_stay_bucket_[8-inf]', 'user_rate_plan_Standard', 'user_rate_plan_Nonref', 'user_room_segment_[0-160]', 'user_room_segment_[160-260]', 'user_room_segment_[260-360]', 'user_room_segment_[360-500]', 'user_room_segment_[500-900]', 'user_n_people_bucket_[1-1]', 'user_n_people_bucket_[2-2]', 'user_n_people_bucket_[3-4]', 'user_n_people_bucket_[5-inf]', 'user_weekend_stay_True', 'user_weekend_stay_False']\n"
     ]
    },
    {
     "data": {
      "text/plain": "      user_id  user_term_WinterVacation  user_term_Easter  \\\n0           1                         1                 0   \n40         50                         1                 0   \n84         96                         1                 0   \n102       115                         0                 0   \n371       706                         1                 0   \n1383     1736                         1                 0   \n7301     7779                         0                 0   \n\n      user_term_OffSeason  user_term_HighSeason  user_term_LowSeason  \\\n0                       1                     1                    1   \n40                      1                     1                    1   \n84                      1                     1                    1   \n102                     1                     0                    0   \n371                     1                     1                    1   \n1383                    1                     1                    1   \n7301                    1                     0                    1   \n\n      user_term_MayLongWeekend  user_term_NewYear  user_term_Christmas  \\\n0                            0                  0                    0   \n40                           0                  0                    0   \n84                           1                  0                    0   \n102                          0                  0                    0   \n371                          1                  1                    0   \n1383                         0                  0                    0   \n7301                         0                  0                    0   \n\n      user_length_of_stay_bucket_[0-1]  ...  user_room_segment_[160-260]  \\\n0                                    0  ...                            1   \n40                                   0  ...                            1   \n84                                   1  ...                            1   \n102                                  0  ...                            1   \n371                                  1  ...                            1   \n1383                                 1  ...                            1   \n7301                                 0  ...                            1   \n\n      user_room_segment_[260-360]  user_room_segment_[360-500]  \\\n0                               1                            1   \n40                              1                            1   \n84                              1                            1   \n102                             0                            0   \n371                             1                            1   \n1383                            1                            1   \n7301                            1                            0   \n\n      user_room_segment_[500-900]  user_n_people_bucket_[1-1]  \\\n0                               1                           0   \n40                              0                           0   \n84                              0                           1   \n102                             0                           1   \n371                             0                           1   \n1383                            0                           1   \n7301                            0                           0   \n\n      user_n_people_bucket_[2-2]  user_n_people_bucket_[3-4]  \\\n0                              1                           1   \n40                             1                           1   \n84                             1                           1   \n102                            0                           0   \n371                            1                           1   \n1383                           1                           1   \n7301                           0                           1   \n\n      user_n_people_bucket_[5-inf]  user_weekend_stay_True  \\\n0                                1                       1   \n40                               1                       1   \n84                               1                       1   \n102                              1                       0   \n371                              1                       1   \n1383                             0                       1   \n7301                             1                       1   \n\n      user_weekend_stay_False  \n0                           1  \n40                          1  \n84                          1  \n102                         1  \n371                         1  \n1383                        1  \n7301                        1  \n\n[7 rows x 26 columns]",
      "text/html": "<div>\n<style scoped>\n    .dataframe tbody tr th:only-of-type {\n        vertical-align: middle;\n    }\n\n    .dataframe tbody tr th {\n        vertical-align: top;\n    }\n\n    .dataframe thead th {\n        text-align: right;\n    }\n</style>\n<table border=\"1\" class=\"dataframe\">\n  <thead>\n    <tr style=\"text-align: right;\">\n      <th></th>\n      <th>user_id</th>\n      <th>user_term_WinterVacation</th>\n      <th>user_term_Easter</th>\n      <th>user_term_OffSeason</th>\n      <th>user_term_HighSeason</th>\n      <th>user_term_LowSeason</th>\n      <th>user_term_MayLongWeekend</th>\n      <th>user_term_NewYear</th>\n      <th>user_term_Christmas</th>\n      <th>user_length_of_stay_bucket_[0-1]</th>\n      <th>...</th>\n      <th>user_room_segment_[160-260]</th>\n      <th>user_room_segment_[260-360]</th>\n      <th>user_room_segment_[360-500]</th>\n      <th>user_room_segment_[500-900]</th>\n      <th>user_n_people_bucket_[1-1]</th>\n      <th>user_n_people_bucket_[2-2]</th>\n      <th>user_n_people_bucket_[3-4]</th>\n      <th>user_n_people_bucket_[5-inf]</th>\n      <th>user_weekend_stay_True</th>\n      <th>user_weekend_stay_False</th>\n    </tr>\n  </thead>\n  <tbody>\n    <tr>\n      <th>0</th>\n      <td>1</td>\n      <td>1</td>\n      <td>0</td>\n      <td>1</td>\n      <td>1</td>\n      <td>1</td>\n      <td>0</td>\n      <td>0</td>\n      <td>0</td>\n      <td>0</td>\n      <td>...</td>\n      <td>1</td>\n      <td>1</td>\n      <td>1</td>\n      <td>1</td>\n      <td>0</td>\n      <td>1</td>\n      <td>1</td>\n      <td>1</td>\n      <td>1</td>\n      <td>1</td>\n    </tr>\n    <tr>\n      <th>40</th>\n      <td>50</td>\n      <td>1</td>\n      <td>0</td>\n      <td>1</td>\n      <td>1</td>\n      <td>1</td>\n      <td>0</td>\n      <td>0</td>\n      <td>0</td>\n      <td>0</td>\n      <td>...</td>\n      <td>1</td>\n      <td>1</td>\n      <td>1</td>\n      <td>0</td>\n      <td>0</td>\n      <td>1</td>\n      <td>1</td>\n      <td>1</td>\n      <td>1</td>\n      <td>1</td>\n    </tr>\n    <tr>\n      <th>84</th>\n      <td>96</td>\n      <td>1</td>\n      <td>0</td>\n      <td>1</td>\n      <td>1</td>\n      <td>1</td>\n      <td>1</td>\n      <td>0</td>\n      <td>0</td>\n      <td>1</td>\n      <td>...</td>\n      <td>1</td>\n      <td>1</td>\n      <td>1</td>\n      <td>0</td>\n      <td>1</td>\n      <td>1</td>\n      <td>1</td>\n      <td>1</td>\n      <td>1</td>\n      <td>1</td>\n    </tr>\n    <tr>\n      <th>102</th>\n      <td>115</td>\n      <td>0</td>\n      <td>0</td>\n      <td>1</td>\n      <td>0</td>\n      <td>0</td>\n      <td>0</td>\n      <td>0</td>\n      <td>0</td>\n      <td>0</td>\n      <td>...</td>\n      <td>1</td>\n      <td>0</td>\n      <td>0</td>\n      <td>0</td>\n      <td>1</td>\n      <td>0</td>\n      <td>0</td>\n      <td>1</td>\n      <td>0</td>\n      <td>1</td>\n    </tr>\n    <tr>\n      <th>371</th>\n      <td>706</td>\n      <td>1</td>\n      <td>0</td>\n      <td>1</td>\n      <td>1</td>\n      <td>1</td>\n      <td>1</td>\n      <td>1</td>\n      <td>0</td>\n      <td>1</td>\n      <td>...</td>\n      <td>1</td>\n      <td>1</td>\n      <td>1</td>\n      <td>0</td>\n      <td>1</td>\n      <td>1</td>\n      <td>1</td>\n      <td>1</td>\n      <td>1</td>\n      <td>1</td>\n    </tr>\n    <tr>\n      <th>1383</th>\n      <td>1736</td>\n      <td>1</td>\n      <td>0</td>\n      <td>1</td>\n      <td>1</td>\n      <td>1</td>\n      <td>0</td>\n      <td>0</td>\n      <td>0</td>\n      <td>1</td>\n      <td>...</td>\n      <td>1</td>\n      <td>1</td>\n      <td>1</td>\n      <td>0</td>\n      <td>1</td>\n      <td>1</td>\n      <td>1</td>\n      <td>0</td>\n      <td>1</td>\n      <td>1</td>\n    </tr>\n    <tr>\n      <th>7301</th>\n      <td>7779</td>\n      <td>0</td>\n      <td>0</td>\n      <td>1</td>\n      <td>0</td>\n      <td>1</td>\n      <td>0</td>\n      <td>0</td>\n      <td>0</td>\n      <td>0</td>\n      <td>...</td>\n      <td>1</td>\n      <td>1</td>\n      <td>0</td>\n      <td>0</td>\n      <td>0</td>\n      <td>0</td>\n      <td>1</td>\n      <td>1</td>\n      <td>1</td>\n      <td>1</td>\n    </tr>\n  </tbody>\n</table>\n<p>7 rows × 26 columns</p>\n</div>"
     },
     "metadata": {},
     "output_type": "display_data"
    }
   ],
   "source": [
    "def prepare_users_df(interactions_df):\n",
    "    users_df = interactions_df.copy()\n",
    "    users_df = users_df.drop(columns=[\"item_id\"], errors=\"ignore\")\n",
    "    users_df = pd.get_dummies(users_df)\n",
    "    users_df = users_df.groupby(\"user_id\").max()\n",
    "    users_df = users_df.add_prefix(\"user_\")\n",
    "    user_features = users_df.columns.to_list()\n",
    "    users_df = users_df.reset_index()\n",
    "    return users_df, user_features\n",
    "\n",
    "users_df, user_features = prepare_users_df(interactions_df)\n",
    "print(user_features)\n",
    "display(users_df.loc[users_df['user_id'].isin([706, 1736, 7779, 96, 1, 50, 115])].head(15))"
   ]
  },
  {
   "cell_type": "markdown",
   "id": "built-complaint",
   "metadata": {},
   "source": [
    "# Prepare numerical item features\n",
    "\n",
    "<span style=\"color:red\"><font size=\"4\">**Task:**</font></span><br> \n",
    "Code the prepare_items_df method which will be used in the recommender fit and recommend methods to map items to numerical features. This method should take the interactions_df DataFrame as input and return a DataFrame containing one record per item_id with item_id column and numerical item feature columns.\n",
    "\n",
    "You can try turning all item features into one-hot representations. You can use the get_dummies method from pandas. It will return the same columns on any dataset of interactions because the categorical variables with all possible values have been defined in the second cell in this notebook.\n",
    "\n",
    "You are welcome to design your own numerical item features, for instance based on numerical min and max values in buckets used as features."
   ]
  },
  {
   "cell_type": "code",
   "execution_count": 4,
   "id": "formal-munich",
   "metadata": {
    "ExecuteTime": {
     "end_time": "2023-05-05T17:27:00.211396200Z",
     "start_time": "2023-05-05T17:27:00.005217400Z"
    }
   },
   "outputs": [
    {
     "name": "stdout",
     "output_type": "stream",
     "text": [
      "['item_term_WinterVacation', 'item_term_Easter', 'item_term_OffSeason', 'item_term_HighSeason', 'item_term_LowSeason', 'item_term_MayLongWeekend', 'item_term_NewYear', 'item_term_Christmas', 'item_length_of_stay_bucket_[0-1]', 'item_length_of_stay_bucket_[2-3]', 'item_length_of_stay_bucket_[4-7]', 'item_length_of_stay_bucket_[8-inf]', 'item_rate_plan_Standard', 'item_rate_plan_Nonref', 'item_room_segment_[0-160]', 'item_room_segment_[160-260]', 'item_room_segment_[260-360]', 'item_room_segment_[360-500]', 'item_room_segment_[500-900]', 'item_n_people_bucket_[1-1]', 'item_n_people_bucket_[2-2]', 'item_n_people_bucket_[3-4]', 'item_n_people_bucket_[5-inf]', 'item_weekend_stay_True', 'item_weekend_stay_False']\n"
     ]
    },
    {
     "data": {
      "text/plain": "   item_id  item_term_WinterVacation  item_term_Easter  item_term_OffSeason  \\\n0        0                         1                 0                    0   \n1        1                         1                 0                    0   \n2        2                         1                 0                    0   \n3        3                         1                 0                    0   \n4        4                         1                 0                    0   \n5        5                         0                 1                    0   \n6        6                         0                 0                    1   \n\n   item_term_HighSeason  item_term_LowSeason  item_term_MayLongWeekend  \\\n0                     0                    0                         0   \n1                     0                    0                         0   \n2                     0                    0                         0   \n3                     0                    0                         0   \n4                     0                    0                         0   \n5                     0                    0                         0   \n6                     0                    0                         0   \n\n   item_term_NewYear  item_term_Christmas  item_length_of_stay_bucket_[0-1]  \\\n0                  0                    0                                 0   \n1                  0                    0                                 0   \n2                  0                    0                                 0   \n3                  0                    0                                 0   \n4                  0                    0                                 0   \n5                  0                    0                                 0   \n6                  0                    0                                 0   \n\n   ...  item_room_segment_[160-260]  item_room_segment_[260-360]  \\\n0  ...                            0                            1   \n1  ...                            1                            0   \n2  ...                            1                            0   \n3  ...                            0                            0   \n4  ...                            0                            0   \n5  ...                            1                            0   \n6  ...                            1                            0   \n\n   item_room_segment_[360-500]  item_room_segment_[500-900]  \\\n0                            0                            0   \n1                            0                            0   \n2                            0                            0   \n3                            0                            0   \n4                            0                            0   \n5                            0                            0   \n6                            0                            0   \n\n   item_n_people_bucket_[1-1]  item_n_people_bucket_[2-2]  \\\n0                           0                           0   \n1                           0                           0   \n2                           0                           1   \n3                           0                           0   \n4                           0                           1   \n5                           0                           0   \n6                           0                           0   \n\n   item_n_people_bucket_[3-4]  item_n_people_bucket_[5-inf]  \\\n0                           0                             1   \n1                           1                             0   \n2                           0                             0   \n3                           1                             0   \n4                           0                             0   \n5                           0                             1   \n6                           0                             1   \n\n   item_weekend_stay_True  item_weekend_stay_False  \n0                       1                        0  \n1                       1                        0  \n2                       0                        1  \n3                       1                        0  \n4                       1                        0  \n5                       1                        0  \n6                       1                        0  \n\n[7 rows x 26 columns]",
      "text/html": "<div>\n<style scoped>\n    .dataframe tbody tr th:only-of-type {\n        vertical-align: middle;\n    }\n\n    .dataframe tbody tr th {\n        vertical-align: top;\n    }\n\n    .dataframe thead th {\n        text-align: right;\n    }\n</style>\n<table border=\"1\" class=\"dataframe\">\n  <thead>\n    <tr style=\"text-align: right;\">\n      <th></th>\n      <th>item_id</th>\n      <th>item_term_WinterVacation</th>\n      <th>item_term_Easter</th>\n      <th>item_term_OffSeason</th>\n      <th>item_term_HighSeason</th>\n      <th>item_term_LowSeason</th>\n      <th>item_term_MayLongWeekend</th>\n      <th>item_term_NewYear</th>\n      <th>item_term_Christmas</th>\n      <th>item_length_of_stay_bucket_[0-1]</th>\n      <th>...</th>\n      <th>item_room_segment_[160-260]</th>\n      <th>item_room_segment_[260-360]</th>\n      <th>item_room_segment_[360-500]</th>\n      <th>item_room_segment_[500-900]</th>\n      <th>item_n_people_bucket_[1-1]</th>\n      <th>item_n_people_bucket_[2-2]</th>\n      <th>item_n_people_bucket_[3-4]</th>\n      <th>item_n_people_bucket_[5-inf]</th>\n      <th>item_weekend_stay_True</th>\n      <th>item_weekend_stay_False</th>\n    </tr>\n  </thead>\n  <tbody>\n    <tr>\n      <th>0</th>\n      <td>0</td>\n      <td>1</td>\n      <td>0</td>\n      <td>0</td>\n      <td>0</td>\n      <td>0</td>\n      <td>0</td>\n      <td>0</td>\n      <td>0</td>\n      <td>0</td>\n      <td>...</td>\n      <td>0</td>\n      <td>1</td>\n      <td>0</td>\n      <td>0</td>\n      <td>0</td>\n      <td>0</td>\n      <td>0</td>\n      <td>1</td>\n      <td>1</td>\n      <td>0</td>\n    </tr>\n    <tr>\n      <th>1</th>\n      <td>1</td>\n      <td>1</td>\n      <td>0</td>\n      <td>0</td>\n      <td>0</td>\n      <td>0</td>\n      <td>0</td>\n      <td>0</td>\n      <td>0</td>\n      <td>0</td>\n      <td>...</td>\n      <td>1</td>\n      <td>0</td>\n      <td>0</td>\n      <td>0</td>\n      <td>0</td>\n      <td>0</td>\n      <td>1</td>\n      <td>0</td>\n      <td>1</td>\n      <td>0</td>\n    </tr>\n    <tr>\n      <th>2</th>\n      <td>2</td>\n      <td>1</td>\n      <td>0</td>\n      <td>0</td>\n      <td>0</td>\n      <td>0</td>\n      <td>0</td>\n      <td>0</td>\n      <td>0</td>\n      <td>0</td>\n      <td>...</td>\n      <td>1</td>\n      <td>0</td>\n      <td>0</td>\n      <td>0</td>\n      <td>0</td>\n      <td>1</td>\n      <td>0</td>\n      <td>0</td>\n      <td>0</td>\n      <td>1</td>\n    </tr>\n    <tr>\n      <th>3</th>\n      <td>3</td>\n      <td>1</td>\n      <td>0</td>\n      <td>0</td>\n      <td>0</td>\n      <td>0</td>\n      <td>0</td>\n      <td>0</td>\n      <td>0</td>\n      <td>0</td>\n      <td>...</td>\n      <td>0</td>\n      <td>0</td>\n      <td>0</td>\n      <td>0</td>\n      <td>0</td>\n      <td>0</td>\n      <td>1</td>\n      <td>0</td>\n      <td>1</td>\n      <td>0</td>\n    </tr>\n    <tr>\n      <th>4</th>\n      <td>4</td>\n      <td>1</td>\n      <td>0</td>\n      <td>0</td>\n      <td>0</td>\n      <td>0</td>\n      <td>0</td>\n      <td>0</td>\n      <td>0</td>\n      <td>0</td>\n      <td>...</td>\n      <td>0</td>\n      <td>0</td>\n      <td>0</td>\n      <td>0</td>\n      <td>0</td>\n      <td>1</td>\n      <td>0</td>\n      <td>0</td>\n      <td>1</td>\n      <td>0</td>\n    </tr>\n    <tr>\n      <th>5</th>\n      <td>5</td>\n      <td>0</td>\n      <td>1</td>\n      <td>0</td>\n      <td>0</td>\n      <td>0</td>\n      <td>0</td>\n      <td>0</td>\n      <td>0</td>\n      <td>0</td>\n      <td>...</td>\n      <td>1</td>\n      <td>0</td>\n      <td>0</td>\n      <td>0</td>\n      <td>0</td>\n      <td>0</td>\n      <td>0</td>\n      <td>1</td>\n      <td>1</td>\n      <td>0</td>\n    </tr>\n    <tr>\n      <th>6</th>\n      <td>6</td>\n      <td>0</td>\n      <td>0</td>\n      <td>1</td>\n      <td>0</td>\n      <td>0</td>\n      <td>0</td>\n      <td>0</td>\n      <td>0</td>\n      <td>0</td>\n      <td>...</td>\n      <td>1</td>\n      <td>0</td>\n      <td>0</td>\n      <td>0</td>\n      <td>0</td>\n      <td>0</td>\n      <td>0</td>\n      <td>1</td>\n      <td>1</td>\n      <td>0</td>\n    </tr>\n  </tbody>\n</table>\n<p>7 rows × 26 columns</p>\n</div>"
     },
     "metadata": {},
     "output_type": "display_data"
    }
   ],
   "source": [
    "def prepare_items_df(interactions_df):\n",
    "    items_df = interactions_df.copy()\n",
    "    items_df = items_df.drop(columns=[\"user_id\"], errors=\"ignore\")\n",
    "    items_df = pd.get_dummies(items_df)\n",
    "    items_df = items_df.groupby(\"item_id\").max()\n",
    "    items_df = items_df.add_prefix(\"item_\")\n",
    "    item_features = items_df.columns.to_list()\n",
    "    items_df = items_df.reset_index()\n",
    "    return items_df, item_features\n",
    "\n",
    "items_df, item_features = prepare_items_df(interactions_df)\n",
    "print(item_features)\n",
    "display(items_df.loc[items_df['item_id'].isin([0, 1, 2, 3, 4, 5, 6])].head(15))"
   ]
  },
  {
   "cell_type": "markdown",
   "id": "figured-imaging",
   "metadata": {},
   "source": [
    "# Content-based recommender\n",
    "\n",
    "<span style=\"color:red\"><font size=\"4\">**Task:**</font></span><br> \n",
    "Code the content-based recommender. User features should be calculated within the fit method based on available training data and should be saved in the object as self.users_df for later use in the recommend method. Item features should be calculated both in the fit method (from interactions_df) and in the recommend method (from items_df - the items to be evaluated).\n",
    "\n",
    "In the fit method you have to randomly generate non-existing interactions and add them to the training data for the regressor. You should add the target variable to interactions - equal to 1 for real (\"positive\") interactions and equal to 0 for those newly added \"negative\" interactions. Generate several negative interactions per every positive interaction (n_neg_per_pos). Treat the proportion as a tunable parameter of the model.\n",
    "\n",
    "Remember to keep control over randomness - in the init method add seed as a parameter and initialize the random seed generator with that seed:\n",
    "\n",
    "```python\n",
    "self.seed = seed\n",
    "self.rng = np.random.RandomState(seed=seed)\n",
    "```\n",
    "\n",
    "Below the base content-based recommender class there are several classes which inherit from the base class and use different ML models:\n",
    "  - LinearRegressionCBUIRecommender - based on linear regression,\n",
    "  - SVRCBUIRecommender - based on Support Vector Regressor (if you want to test it, sample the data in the fit method, as the training can take many hours on the entire dataset of interactions),\n",
    "  - RandomForestCBUIRecommender - based on Random Forest,\n",
    "  - XGBoostCBUIRecommender - based on XGBoost.\n",
    "  \n",
    "There is no need to change anything in those inheriting classes, although you can experiment with other tunable parameters of the underlying models.\n",
    "\n",
    "You are encouraged to experiment with:\n",
    "  - Other numerical user and item features (but always train and evaluate the model on buckets defined in the first notebook).\n",
    "  - Other ML models, e.g. Huber regression, Lasso regression, Ridge regression, LARS regression, Linear SVR, Decision Tree, Naive Bayes, LightGBM, Neural Networks or any model of your choice."
   ]
  },
  {
   "cell_type": "code",
   "execution_count": 5,
   "id": "unlike-recipient",
   "metadata": {
    "ExecuteTime": {
     "end_time": "2023-05-05T17:27:01.358436700Z",
     "start_time": "2023-05-05T17:27:00.212392900Z"
    }
   },
   "outputs": [],
   "source": [
    "from sklearn.linear_model import LinearRegression\n",
    "from sklearn.svm import SVR\n",
    "from sklearn.ensemble import RandomForestRegressor\n",
    "from sklearn.ensemble import GradientBoostingRegressor\n",
    "\n",
    "from recommenders.recommender import Recommender\n",
    "\n",
    "\n",
    "class ContentBasedUserItemRecommender(Recommender):\n",
    "    \"\"\"\n",
    "    Linear recommender class based on user and item features.\n",
    "    \"\"\"\n",
    "    \n",
    "    def __init__(self, seed=6789, n_neg_per_pos=5):\n",
    "        \"\"\"\n",
    "        Initialize base recommender params and variables.\n",
    "        \"\"\"\n",
    "        self.model = LinearRegression()\n",
    "        self.n_neg_per_pos = n_neg_per_pos\n",
    "        \n",
    "        self.recommender_df = pd.DataFrame(columns=['user_id', 'item_id', 'score'])\n",
    "        self.users_df = None\n",
    "        self.user_features = None\n",
    "        \n",
    "        self.seed = seed\n",
    "        self.rng = np.random.RandomState(seed=seed)\n",
    "    \n",
    "    def fit(self, interactions_df, users_df, items_df):\n",
    "        \"\"\"\n",
    "        Training of the recommender.\n",
    "        \n",
    "        :param pd.DataFrame interactions_df: DataFrame with recorded interactions between users and items \n",
    "            defined by user_id, item_id and features of the interaction.\n",
    "        :param pd.DataFrame users_df: DataFrame with users and their features defined by user_id and the user feature columns.\n",
    "        :param pd.DataFrame items_df: DataFrame with items and their features defined by item_id and the item feature columns.\n",
    "        \"\"\"\n",
    "        \n",
    "        interactions_df = interactions_df.copy()\n",
    "        \n",
    "        # Prepare users_df and items_df\n",
    "        \n",
    "        users_df, user_features = prepare_users_df(interactions_df)\n",
    "        \n",
    "        self.users_df = users_df\n",
    "        self.user_features = user_features\n",
    "        \n",
    "        items_df, item_features = prepare_items_df(interactions_df)\n",
    "        items_df = items_df.loc[:, ['item_id'] + item_features]\n",
    "        \n",
    "        # Generate negative interactions\n",
    "        \n",
    "        interactions_df = interactions_df.loc[:, ['user_id', 'item_id']]\n",
    "        \n",
    "        interactions_df.loc[:, 'interacted'] = 1\n",
    "        \n",
    "        negative_interactions = []\n",
    "\n",
    "        # Generate tuples (user_id, item_id, 0) for pairs (user_id, item_id) which do not\n",
    "        # appear in the interactions_df and add those tuples to the list negative_interactions.\n",
    "        # Generate self.n_neg_per_pos * len(interactions_df) negative interactions \n",
    "        # (self.n_neg_per_pos per one positive).\n",
    "        interactions_pivot = interactions_df[[\"user_id\", \"item_id\"]].pivot_table(index=\"user_id\", columns=\"item_id\", aggfunc=len)\n",
    "\n",
    "        while len(negative_interactions) < self.n_neg_per_pos * len(interactions_df):\n",
    "            user_id = self.rng.choice(interactions_pivot.index)\n",
    "            item_id = self.rng.choice(interactions_pivot.columns)\n",
    "            if np.isnan(interactions_pivot.loc[user_id, item_id]):\n",
    "                negative_interactions.append((user_id, item_id, 0))\n",
    "        \n",
    "        interactions_df = pd.concat(\n",
    "            [interactions_df, pd.DataFrame(negative_interactions, columns=['user_id', 'item_id', 'interacted'])])\n",
    "        \n",
    "        # Get the input data for the model\n",
    "        \n",
    "        interactions_df = pd.merge(interactions_df, users_df, on=['user_id'])\n",
    "        interactions_df = pd.merge(interactions_df, items_df, on=['item_id'])\n",
    "        \n",
    "        x = interactions_df.loc[:, user_features + item_features].values\n",
    "        y = interactions_df['interacted'].values\n",
    "    \n",
    "        self.model.fit(x, y)\n",
    "    \n",
    "    def recommend(self, users_df, items_df, n_recommendations=1):\n",
    "        \"\"\"\n",
    "        Serving of recommendations. Scores items in items_df for each user in users_df and returns \n",
    "        top n_recommendations for each user.\n",
    "        \n",
    "        :param pd.DataFrame users_df: DataFrame with users and their features for which recommendations should be generated.\n",
    "        :param pd.DataFrame items_df: DataFrame with items and their features which should be scored.\n",
    "        :param int n_recommendations: Number of recommendations to be returned for each user.\n",
    "        :return: DataFrame with user_id, item_id and score as columns returning n_recommendations top recommendations \n",
    "            for each user.\n",
    "        :rtype: pd.DataFrame\n",
    "        \"\"\"\n",
    "        \n",
    "        # Clean previous recommendations (iloc could be used alternatively)\n",
    "        self.recommender_df = self.recommender_df[:0]\n",
    "\n",
    "        # Prepare users_df and items_df\n",
    "        # For users_df you need to merge user features from self.users_df to users_df \n",
    "        # (the users for which you generate recommendations).\n",
    "        # Note that for users who were not in the hotel before (which is true for most users)\n",
    "        # there will be no features in self.users_df. For such users you can initialize their features\n",
    "        # with all zeros (for instance with fillna(0)), but you can also try to use average feature\n",
    "        # values from self.users_df (this way you would treat a new user as an average user).\n",
    "        # For items, you have to apply the prepare_items_df method to items_df.\n",
    "        users_df = users_df.merge(self.users_df, on=\"user_id\", how=\"left\")\n",
    "        users_df = users_df.fillna(0)\n",
    "        items_df, item_features = prepare_items_df(items_df)\n",
    "\n",
    "        # Score the items\n",
    "        recommendations = pd.DataFrame(columns=['user_id', 'item_id', 'score'])\n",
    "        \n",
    "        for ix, user in users_df.iterrows():\n",
    "            # Create a Carthesian product of users from users_df and items from items_df\n",
    "            cart_product = pd.merge(pd.DataFrame(user).transpose(), items_df, how=\"cross\")\n",
    "            cart_product = cart_product[self.user_features + item_features].values\n",
    "\n",
    "            # Use self.model.predict method to calculate scores for all records in the just created DataFrame\n",
    "            # of users and items\n",
    "            scores = self.model.predict(cart_product)\n",
    "\n",
    "            # Obtain item ids with the highest score and save those ids under the chosen_ids variable\n",
    "            # Do not exclude already booked items.\n",
    "            chosen_ids = np.argsort(-scores)[:n_recommendations]\n",
    "\n",
    "            recommendations = []\n",
    "            for item_id in chosen_ids:\n",
    "                recommendations.append(\n",
    "                    {\n",
    "                        'user_id': user['user_id'],\n",
    "                        'item_id': item_id,\n",
    "                        'score': scores[item_id]\n",
    "                    }\n",
    "                )\n",
    "            \n",
    "            user_recommendations = pd.DataFrame(recommendations)\n",
    "\n",
    "            self.recommender_df = pd.concat([self.recommender_df, user_recommendations])\n",
    "\n",
    "        return self.recommender_df\n",
    "    \n",
    "    \n",
    "class LinearRegressionCBUIRecommender(ContentBasedUserItemRecommender):\n",
    "    \"\"\"\n",
    "    Linear regression recommender class based on user and item features.\n",
    "    \"\"\"\n",
    "    \n",
    "    def __init__(self, seed=6789, n_neg_per_pos=5, **model_params):\n",
    "        \"\"\"\n",
    "        Initialize base recommender params and variables.\n",
    "        \"\"\"\n",
    "        super().__init__(seed=seed, n_neg_per_pos=n_neg_per_pos)\n",
    "        self.model = LinearRegression()\n",
    "        \n",
    "        \n",
    "class SVRCBUIRecommender(ContentBasedUserItemRecommender):\n",
    "    \"\"\"\n",
    "    SVR recommender class based on user and item features.\n",
    "    \"\"\"\n",
    "    \n",
    "    def __init__(self, seed=6789, n_neg_per_pos=5, **model_params):\n",
    "        \"\"\"\n",
    "        Initialize base recommender params and variables.\n",
    "        \"\"\"\n",
    "        super().__init__(seed=seed, n_neg_per_pos=n_neg_per_pos)\n",
    "        if 'kernel' in model_params:\n",
    "            self.kernel = model_params['kernel']\n",
    "        else:\n",
    "            self.kernel = 'rbf'\n",
    "        if 'C' in model_params:\n",
    "            self.C = model_params['C']\n",
    "        else:\n",
    "            self.C = 1.0\n",
    "        if 'epsilon' in model_params:\n",
    "            self.epsilon = model_params['epsilon']\n",
    "        else:\n",
    "            self.epsilon = 0.1\n",
    "        self.model = SVR(kernel=self.kernel, C=self.C, epsilon=self.epsilon)\n",
    "        \n",
    "    \n",
    "class RandomForestCBUIRecommender(ContentBasedUserItemRecommender):\n",
    "    \"\"\"\n",
    "    Random forest recommender class based on user and item features.\n",
    "    \"\"\"\n",
    "    \n",
    "    def __init__(self, seed=6789, n_neg_per_pos=5, **model_params):\n",
    "        \"\"\"\n",
    "        Initialize base recommender params and variables.\n",
    "        \"\"\"\n",
    "        super().__init__(seed=seed, n_neg_per_pos=n_neg_per_pos)\n",
    "        if 'n_estimators' in model_params:\n",
    "            self.n_estimators = int(model_params['n_estimators'])\n",
    "        else:\n",
    "            self.n_estimators = 100\n",
    "        if 'max_depth' in model_params:\n",
    "            self.max_depth = int(model_params['max_depth'])\n",
    "        else:\n",
    "            self.max_depth = 30\n",
    "        if 'min_samples_split' in model_params:\n",
    "            self.min_samples_split = int(model_params['min_samples_split'])\n",
    "        else:\n",
    "            self.min_samples_split = 30\n",
    "        self.model = RandomForestRegressor(\n",
    "            n_estimators=self.n_estimators, max_depth=self.max_depth, min_samples_split=self.min_samples_split)\n",
    "    \n",
    "    \n",
    "class XGBoostCBUIRecommender(ContentBasedUserItemRecommender):\n",
    "    \"\"\"\n",
    "    XGBoost recommender class based on user and item features.\n",
    "    \"\"\"\n",
    "    \n",
    "    def __init__(self, seed=6789, n_neg_per_pos=5, **model_params):\n",
    "        \"\"\"\n",
    "        Initialize base recommender params and variables.\n",
    "        \"\"\"\n",
    "        super().__init__(seed=seed, n_neg_per_pos=n_neg_per_pos)\n",
    "        if 'n_estimators' in model_params:\n",
    "            self.n_estimators = int(model_params['n_estimators'])\n",
    "        else:\n",
    "            self.n_estimators = 100\n",
    "        if 'max_depth' in model_params:\n",
    "            self.max_depth = int(model_params['max_depth'])\n",
    "        else:\n",
    "            self.max_depth = 30\n",
    "        if 'min_samples_split' in model_params:\n",
    "            self.min_samples_split = int(model_params['min_samples_split'])\n",
    "        else:\n",
    "            self.min_samples_split = 30\n",
    "        if 'learning_rate' in model_params:\n",
    "            self.learning_rate = model_params['learning_rate']\n",
    "        else:\n",
    "            self.learning_rate = 30\n",
    "        self.model = GradientBoostingRegressor(\n",
    "            n_estimators=self.n_estimators, max_depth=self.max_depth, min_samples_split=self.min_samples_split,\n",
    "            learning_rate=self.learning_rate)"
   ]
  },
  {
   "cell_type": "markdown",
   "id": "copyrighted-relative",
   "metadata": {},
   "source": [
    "# Quick test of the recommender"
   ]
  },
  {
   "cell_type": "code",
   "execution_count": 6,
   "id": "greatest-canon",
   "metadata": {
    "ExecuteTime": {
     "end_time": "2023-05-05T17:27:01.547820700Z",
     "start_time": "2023-05-05T17:27:01.362425700Z"
    }
   },
   "outputs": [],
   "source": [
    "items_df = interactions_df.loc[:, ['item_id'] + base_item_features].drop_duplicates()"
   ]
  },
  {
   "cell_type": "code",
   "execution_count": 7,
   "id": "initial-capital",
   "metadata": {
    "ExecuteTime": {
     "end_time": "2023-05-05T17:27:13.350280100Z",
     "start_time": "2023-05-05T17:27:01.548817900Z"
    }
   },
   "outputs": [],
   "source": [
    "# Fit method\n",
    "cb_user_item_recommender = LinearRegressionCBUIRecommender(**{'n_neg_per_pos': 10})\n",
    "cb_user_item_recommender.fit(interactions_df, None, None)"
   ]
  },
  {
   "cell_type": "code",
   "execution_count": 8,
   "id": "digital-consolidation",
   "metadata": {
    "scrolled": false,
    "ExecuteTime": {
     "end_time": "2023-05-05T17:27:13.598637500Z",
     "start_time": "2023-05-05T17:27:13.353272300Z"
    }
   },
   "outputs": [
    {
     "data": {
      "text/plain": "   user_id item_id     score        term length_of_stay_bucket rate_plan  \\\n0        1      56  0.726196   OffSeason                 [2-3]    Nonref   \n1        1      22  0.719177   OffSeason                 [2-3]  Standard   \n2        1      60  0.705994   OffSeason                 [2-3]    Nonref   \n3        1      33  0.699036   OffSeason                 [2-3]  Standard   \n4        1      93  0.697388   OffSeason                 [2-3]    Nonref   \n5        1      24  0.690430   OffSeason                 [2-3]  Standard   \n6        1     151  0.677246   OffSeason                 [2-3]    Nonref   \n7        1     129  0.675598   OffSeason                 [2-3]    Nonref   \n8        1      35  0.670288   OffSeason                 [2-3]  Standard   \n9        1    1019  0.669128  HighSeason                 [2-3]    Nonref   \n10       2      56  0.348328   OffSeason                 [2-3]    Nonref   \n11       2      22  0.341370   OffSeason                 [2-3]  Standard   \n12       2      60  0.328186   OffSeason                 [2-3]    Nonref   \n13       2      33  0.321228   OffSeason                 [2-3]  Standard   \n14       2      93  0.319580   OffSeason                 [2-3]    Nonref   \n15       2      24  0.312622   OffSeason                 [2-3]  Standard   \n16       2     151  0.299438   OffSeason                 [2-3]    Nonref   \n17       2     129  0.297729   OffSeason                 [2-3]    Nonref   \n18       2      35  0.292480   OffSeason                 [2-3]  Standard   \n19       2    1019  0.291321  HighSeason                 [2-3]    Nonref   \n20       3      56  0.353333   OffSeason                 [2-3]    Nonref   \n21       3      22  0.346375   OffSeason                 [2-3]  Standard   \n22       3      60  0.333130   OffSeason                 [2-3]    Nonref   \n23       3      33  0.326233   OffSeason                 [2-3]  Standard   \n24       3      93  0.324524   OffSeason                 [2-3]    Nonref   \n25       3      24  0.317566   OffSeason                 [2-3]  Standard   \n26       3     151  0.304382   OffSeason                 [2-3]    Nonref   \n27       3     129  0.302673   OffSeason                 [2-3]    Nonref   \n28       3      35  0.297424   OffSeason                 [2-3]  Standard   \n29       3    1019  0.296265  HighSeason                 [2-3]    Nonref   \n30       4      56  0.353210   OffSeason                 [2-3]    Nonref   \n31       4      22  0.346252   OffSeason                 [2-3]  Standard   \n32       4      60  0.333069   OffSeason                 [2-3]    Nonref   \n33       4      33  0.326111   OffSeason                 [2-3]  Standard   \n34       4      93  0.324402   OffSeason                 [2-3]    Nonref   \n35       4      24  0.317444   OffSeason                 [2-3]  Standard   \n36       4     151  0.304260   OffSeason                 [2-3]    Nonref   \n37       4     129  0.302612   OffSeason                 [2-3]    Nonref   \n38       4      35  0.297302   OffSeason                 [2-3]  Standard   \n39       4    1019  0.296143  HighSeason                 [2-3]    Nonref   \n40       5      56  0.355042   OffSeason                 [2-3]    Nonref   \n41       5      22  0.348083   OffSeason                 [2-3]  Standard   \n42       5      60  0.334900   OffSeason                 [2-3]    Nonref   \n43       5      33  0.327942   OffSeason                 [2-3]  Standard   \n44       5      93  0.326294   OffSeason                 [2-3]    Nonref   \n45       5      24  0.319336   OffSeason                 [2-3]  Standard   \n46       5     151  0.306152   OffSeason                 [2-3]    Nonref   \n47       5     129  0.304504   OffSeason                 [2-3]    Nonref   \n48       5      35  0.299194   OffSeason                 [2-3]  Standard   \n49       5    1019  0.298035  HighSeason                 [2-3]    Nonref   \n\n   room_segment n_people_bucket weekend_stay  \n0       [0-160]           [3-4]         True  \n1       [0-160]           [3-4]         True  \n2       [0-160]           [2-2]         True  \n3       [0-160]           [2-2]         True  \n4     [160-260]           [3-4]         True  \n5     [160-260]           [3-4]         True  \n6     [160-260]           [2-2]         True  \n7       [0-160]           [3-4]        False  \n8     [160-260]           [2-2]         True  \n9       [0-160]           [3-4]         True  \n10      [0-160]           [3-4]         True  \n11      [0-160]           [3-4]         True  \n12      [0-160]           [2-2]         True  \n13      [0-160]           [2-2]         True  \n14    [160-260]           [3-4]         True  \n15    [160-260]           [3-4]         True  \n16    [160-260]           [2-2]         True  \n17      [0-160]           [3-4]        False  \n18    [160-260]           [2-2]         True  \n19      [0-160]           [3-4]         True  \n20      [0-160]           [3-4]         True  \n21      [0-160]           [3-4]         True  \n22      [0-160]           [2-2]         True  \n23      [0-160]           [2-2]         True  \n24    [160-260]           [3-4]         True  \n25    [160-260]           [3-4]         True  \n26    [160-260]           [2-2]         True  \n27      [0-160]           [3-4]        False  \n28    [160-260]           [2-2]         True  \n29      [0-160]           [3-4]         True  \n30      [0-160]           [3-4]         True  \n31      [0-160]           [3-4]         True  \n32      [0-160]           [2-2]         True  \n33      [0-160]           [2-2]         True  \n34    [160-260]           [3-4]         True  \n35    [160-260]           [3-4]         True  \n36    [160-260]           [2-2]         True  \n37      [0-160]           [3-4]        False  \n38    [160-260]           [2-2]         True  \n39      [0-160]           [3-4]         True  \n40      [0-160]           [3-4]         True  \n41      [0-160]           [3-4]         True  \n42      [0-160]           [2-2]         True  \n43      [0-160]           [2-2]         True  \n44    [160-260]           [3-4]         True  \n45    [160-260]           [3-4]         True  \n46    [160-260]           [2-2]         True  \n47      [0-160]           [3-4]        False  \n48    [160-260]           [2-2]         True  \n49      [0-160]           [3-4]         True  ",
      "text/html": "<div>\n<style scoped>\n    .dataframe tbody tr th:only-of-type {\n        vertical-align: middle;\n    }\n\n    .dataframe tbody tr th {\n        vertical-align: top;\n    }\n\n    .dataframe thead th {\n        text-align: right;\n    }\n</style>\n<table border=\"1\" class=\"dataframe\">\n  <thead>\n    <tr style=\"text-align: right;\">\n      <th></th>\n      <th>user_id</th>\n      <th>item_id</th>\n      <th>score</th>\n      <th>term</th>\n      <th>length_of_stay_bucket</th>\n      <th>rate_plan</th>\n      <th>room_segment</th>\n      <th>n_people_bucket</th>\n      <th>weekend_stay</th>\n    </tr>\n  </thead>\n  <tbody>\n    <tr>\n      <th>0</th>\n      <td>1</td>\n      <td>56</td>\n      <td>0.726196</td>\n      <td>OffSeason</td>\n      <td>[2-3]</td>\n      <td>Nonref</td>\n      <td>[0-160]</td>\n      <td>[3-4]</td>\n      <td>True</td>\n    </tr>\n    <tr>\n      <th>1</th>\n      <td>1</td>\n      <td>22</td>\n      <td>0.719177</td>\n      <td>OffSeason</td>\n      <td>[2-3]</td>\n      <td>Standard</td>\n      <td>[0-160]</td>\n      <td>[3-4]</td>\n      <td>True</td>\n    </tr>\n    <tr>\n      <th>2</th>\n      <td>1</td>\n      <td>60</td>\n      <td>0.705994</td>\n      <td>OffSeason</td>\n      <td>[2-3]</td>\n      <td>Nonref</td>\n      <td>[0-160]</td>\n      <td>[2-2]</td>\n      <td>True</td>\n    </tr>\n    <tr>\n      <th>3</th>\n      <td>1</td>\n      <td>33</td>\n      <td>0.699036</td>\n      <td>OffSeason</td>\n      <td>[2-3]</td>\n      <td>Standard</td>\n      <td>[0-160]</td>\n      <td>[2-2]</td>\n      <td>True</td>\n    </tr>\n    <tr>\n      <th>4</th>\n      <td>1</td>\n      <td>93</td>\n      <td>0.697388</td>\n      <td>OffSeason</td>\n      <td>[2-3]</td>\n      <td>Nonref</td>\n      <td>[160-260]</td>\n      <td>[3-4]</td>\n      <td>True</td>\n    </tr>\n    <tr>\n      <th>5</th>\n      <td>1</td>\n      <td>24</td>\n      <td>0.690430</td>\n      <td>OffSeason</td>\n      <td>[2-3]</td>\n      <td>Standard</td>\n      <td>[160-260]</td>\n      <td>[3-4]</td>\n      <td>True</td>\n    </tr>\n    <tr>\n      <th>6</th>\n      <td>1</td>\n      <td>151</td>\n      <td>0.677246</td>\n      <td>OffSeason</td>\n      <td>[2-3]</td>\n      <td>Nonref</td>\n      <td>[160-260]</td>\n      <td>[2-2]</td>\n      <td>True</td>\n    </tr>\n    <tr>\n      <th>7</th>\n      <td>1</td>\n      <td>129</td>\n      <td>0.675598</td>\n      <td>OffSeason</td>\n      <td>[2-3]</td>\n      <td>Nonref</td>\n      <td>[0-160]</td>\n      <td>[3-4]</td>\n      <td>False</td>\n    </tr>\n    <tr>\n      <th>8</th>\n      <td>1</td>\n      <td>35</td>\n      <td>0.670288</td>\n      <td>OffSeason</td>\n      <td>[2-3]</td>\n      <td>Standard</td>\n      <td>[160-260]</td>\n      <td>[2-2]</td>\n      <td>True</td>\n    </tr>\n    <tr>\n      <th>9</th>\n      <td>1</td>\n      <td>1019</td>\n      <td>0.669128</td>\n      <td>HighSeason</td>\n      <td>[2-3]</td>\n      <td>Nonref</td>\n      <td>[0-160]</td>\n      <td>[3-4]</td>\n      <td>True</td>\n    </tr>\n    <tr>\n      <th>10</th>\n      <td>2</td>\n      <td>56</td>\n      <td>0.348328</td>\n      <td>OffSeason</td>\n      <td>[2-3]</td>\n      <td>Nonref</td>\n      <td>[0-160]</td>\n      <td>[3-4]</td>\n      <td>True</td>\n    </tr>\n    <tr>\n      <th>11</th>\n      <td>2</td>\n      <td>22</td>\n      <td>0.341370</td>\n      <td>OffSeason</td>\n      <td>[2-3]</td>\n      <td>Standard</td>\n      <td>[0-160]</td>\n      <td>[3-4]</td>\n      <td>True</td>\n    </tr>\n    <tr>\n      <th>12</th>\n      <td>2</td>\n      <td>60</td>\n      <td>0.328186</td>\n      <td>OffSeason</td>\n      <td>[2-3]</td>\n      <td>Nonref</td>\n      <td>[0-160]</td>\n      <td>[2-2]</td>\n      <td>True</td>\n    </tr>\n    <tr>\n      <th>13</th>\n      <td>2</td>\n      <td>33</td>\n      <td>0.321228</td>\n      <td>OffSeason</td>\n      <td>[2-3]</td>\n      <td>Standard</td>\n      <td>[0-160]</td>\n      <td>[2-2]</td>\n      <td>True</td>\n    </tr>\n    <tr>\n      <th>14</th>\n      <td>2</td>\n      <td>93</td>\n      <td>0.319580</td>\n      <td>OffSeason</td>\n      <td>[2-3]</td>\n      <td>Nonref</td>\n      <td>[160-260]</td>\n      <td>[3-4]</td>\n      <td>True</td>\n    </tr>\n    <tr>\n      <th>15</th>\n      <td>2</td>\n      <td>24</td>\n      <td>0.312622</td>\n      <td>OffSeason</td>\n      <td>[2-3]</td>\n      <td>Standard</td>\n      <td>[160-260]</td>\n      <td>[3-4]</td>\n      <td>True</td>\n    </tr>\n    <tr>\n      <th>16</th>\n      <td>2</td>\n      <td>151</td>\n      <td>0.299438</td>\n      <td>OffSeason</td>\n      <td>[2-3]</td>\n      <td>Nonref</td>\n      <td>[160-260]</td>\n      <td>[2-2]</td>\n      <td>True</td>\n    </tr>\n    <tr>\n      <th>17</th>\n      <td>2</td>\n      <td>129</td>\n      <td>0.297729</td>\n      <td>OffSeason</td>\n      <td>[2-3]</td>\n      <td>Nonref</td>\n      <td>[0-160]</td>\n      <td>[3-4]</td>\n      <td>False</td>\n    </tr>\n    <tr>\n      <th>18</th>\n      <td>2</td>\n      <td>35</td>\n      <td>0.292480</td>\n      <td>OffSeason</td>\n      <td>[2-3]</td>\n      <td>Standard</td>\n      <td>[160-260]</td>\n      <td>[2-2]</td>\n      <td>True</td>\n    </tr>\n    <tr>\n      <th>19</th>\n      <td>2</td>\n      <td>1019</td>\n      <td>0.291321</td>\n      <td>HighSeason</td>\n      <td>[2-3]</td>\n      <td>Nonref</td>\n      <td>[0-160]</td>\n      <td>[3-4]</td>\n      <td>True</td>\n    </tr>\n    <tr>\n      <th>20</th>\n      <td>3</td>\n      <td>56</td>\n      <td>0.353333</td>\n      <td>OffSeason</td>\n      <td>[2-3]</td>\n      <td>Nonref</td>\n      <td>[0-160]</td>\n      <td>[3-4]</td>\n      <td>True</td>\n    </tr>\n    <tr>\n      <th>21</th>\n      <td>3</td>\n      <td>22</td>\n      <td>0.346375</td>\n      <td>OffSeason</td>\n      <td>[2-3]</td>\n      <td>Standard</td>\n      <td>[0-160]</td>\n      <td>[3-4]</td>\n      <td>True</td>\n    </tr>\n    <tr>\n      <th>22</th>\n      <td>3</td>\n      <td>60</td>\n      <td>0.333130</td>\n      <td>OffSeason</td>\n      <td>[2-3]</td>\n      <td>Nonref</td>\n      <td>[0-160]</td>\n      <td>[2-2]</td>\n      <td>True</td>\n    </tr>\n    <tr>\n      <th>23</th>\n      <td>3</td>\n      <td>33</td>\n      <td>0.326233</td>\n      <td>OffSeason</td>\n      <td>[2-3]</td>\n      <td>Standard</td>\n      <td>[0-160]</td>\n      <td>[2-2]</td>\n      <td>True</td>\n    </tr>\n    <tr>\n      <th>24</th>\n      <td>3</td>\n      <td>93</td>\n      <td>0.324524</td>\n      <td>OffSeason</td>\n      <td>[2-3]</td>\n      <td>Nonref</td>\n      <td>[160-260]</td>\n      <td>[3-4]</td>\n      <td>True</td>\n    </tr>\n    <tr>\n      <th>25</th>\n      <td>3</td>\n      <td>24</td>\n      <td>0.317566</td>\n      <td>OffSeason</td>\n      <td>[2-3]</td>\n      <td>Standard</td>\n      <td>[160-260]</td>\n      <td>[3-4]</td>\n      <td>True</td>\n    </tr>\n    <tr>\n      <th>26</th>\n      <td>3</td>\n      <td>151</td>\n      <td>0.304382</td>\n      <td>OffSeason</td>\n      <td>[2-3]</td>\n      <td>Nonref</td>\n      <td>[160-260]</td>\n      <td>[2-2]</td>\n      <td>True</td>\n    </tr>\n    <tr>\n      <th>27</th>\n      <td>3</td>\n      <td>129</td>\n      <td>0.302673</td>\n      <td>OffSeason</td>\n      <td>[2-3]</td>\n      <td>Nonref</td>\n      <td>[0-160]</td>\n      <td>[3-4]</td>\n      <td>False</td>\n    </tr>\n    <tr>\n      <th>28</th>\n      <td>3</td>\n      <td>35</td>\n      <td>0.297424</td>\n      <td>OffSeason</td>\n      <td>[2-3]</td>\n      <td>Standard</td>\n      <td>[160-260]</td>\n      <td>[2-2]</td>\n      <td>True</td>\n    </tr>\n    <tr>\n      <th>29</th>\n      <td>3</td>\n      <td>1019</td>\n      <td>0.296265</td>\n      <td>HighSeason</td>\n      <td>[2-3]</td>\n      <td>Nonref</td>\n      <td>[0-160]</td>\n      <td>[3-4]</td>\n      <td>True</td>\n    </tr>\n    <tr>\n      <th>30</th>\n      <td>4</td>\n      <td>56</td>\n      <td>0.353210</td>\n      <td>OffSeason</td>\n      <td>[2-3]</td>\n      <td>Nonref</td>\n      <td>[0-160]</td>\n      <td>[3-4]</td>\n      <td>True</td>\n    </tr>\n    <tr>\n      <th>31</th>\n      <td>4</td>\n      <td>22</td>\n      <td>0.346252</td>\n      <td>OffSeason</td>\n      <td>[2-3]</td>\n      <td>Standard</td>\n      <td>[0-160]</td>\n      <td>[3-4]</td>\n      <td>True</td>\n    </tr>\n    <tr>\n      <th>32</th>\n      <td>4</td>\n      <td>60</td>\n      <td>0.333069</td>\n      <td>OffSeason</td>\n      <td>[2-3]</td>\n      <td>Nonref</td>\n      <td>[0-160]</td>\n      <td>[2-2]</td>\n      <td>True</td>\n    </tr>\n    <tr>\n      <th>33</th>\n      <td>4</td>\n      <td>33</td>\n      <td>0.326111</td>\n      <td>OffSeason</td>\n      <td>[2-3]</td>\n      <td>Standard</td>\n      <td>[0-160]</td>\n      <td>[2-2]</td>\n      <td>True</td>\n    </tr>\n    <tr>\n      <th>34</th>\n      <td>4</td>\n      <td>93</td>\n      <td>0.324402</td>\n      <td>OffSeason</td>\n      <td>[2-3]</td>\n      <td>Nonref</td>\n      <td>[160-260]</td>\n      <td>[3-4]</td>\n      <td>True</td>\n    </tr>\n    <tr>\n      <th>35</th>\n      <td>4</td>\n      <td>24</td>\n      <td>0.317444</td>\n      <td>OffSeason</td>\n      <td>[2-3]</td>\n      <td>Standard</td>\n      <td>[160-260]</td>\n      <td>[3-4]</td>\n      <td>True</td>\n    </tr>\n    <tr>\n      <th>36</th>\n      <td>4</td>\n      <td>151</td>\n      <td>0.304260</td>\n      <td>OffSeason</td>\n      <td>[2-3]</td>\n      <td>Nonref</td>\n      <td>[160-260]</td>\n      <td>[2-2]</td>\n      <td>True</td>\n    </tr>\n    <tr>\n      <th>37</th>\n      <td>4</td>\n      <td>129</td>\n      <td>0.302612</td>\n      <td>OffSeason</td>\n      <td>[2-3]</td>\n      <td>Nonref</td>\n      <td>[0-160]</td>\n      <td>[3-4]</td>\n      <td>False</td>\n    </tr>\n    <tr>\n      <th>38</th>\n      <td>4</td>\n      <td>35</td>\n      <td>0.297302</td>\n      <td>OffSeason</td>\n      <td>[2-3]</td>\n      <td>Standard</td>\n      <td>[160-260]</td>\n      <td>[2-2]</td>\n      <td>True</td>\n    </tr>\n    <tr>\n      <th>39</th>\n      <td>4</td>\n      <td>1019</td>\n      <td>0.296143</td>\n      <td>HighSeason</td>\n      <td>[2-3]</td>\n      <td>Nonref</td>\n      <td>[0-160]</td>\n      <td>[3-4]</td>\n      <td>True</td>\n    </tr>\n    <tr>\n      <th>40</th>\n      <td>5</td>\n      <td>56</td>\n      <td>0.355042</td>\n      <td>OffSeason</td>\n      <td>[2-3]</td>\n      <td>Nonref</td>\n      <td>[0-160]</td>\n      <td>[3-4]</td>\n      <td>True</td>\n    </tr>\n    <tr>\n      <th>41</th>\n      <td>5</td>\n      <td>22</td>\n      <td>0.348083</td>\n      <td>OffSeason</td>\n      <td>[2-3]</td>\n      <td>Standard</td>\n      <td>[0-160]</td>\n      <td>[3-4]</td>\n      <td>True</td>\n    </tr>\n    <tr>\n      <th>42</th>\n      <td>5</td>\n      <td>60</td>\n      <td>0.334900</td>\n      <td>OffSeason</td>\n      <td>[2-3]</td>\n      <td>Nonref</td>\n      <td>[0-160]</td>\n      <td>[2-2]</td>\n      <td>True</td>\n    </tr>\n    <tr>\n      <th>43</th>\n      <td>5</td>\n      <td>33</td>\n      <td>0.327942</td>\n      <td>OffSeason</td>\n      <td>[2-3]</td>\n      <td>Standard</td>\n      <td>[0-160]</td>\n      <td>[2-2]</td>\n      <td>True</td>\n    </tr>\n    <tr>\n      <th>44</th>\n      <td>5</td>\n      <td>93</td>\n      <td>0.326294</td>\n      <td>OffSeason</td>\n      <td>[2-3]</td>\n      <td>Nonref</td>\n      <td>[160-260]</td>\n      <td>[3-4]</td>\n      <td>True</td>\n    </tr>\n    <tr>\n      <th>45</th>\n      <td>5</td>\n      <td>24</td>\n      <td>0.319336</td>\n      <td>OffSeason</td>\n      <td>[2-3]</td>\n      <td>Standard</td>\n      <td>[160-260]</td>\n      <td>[3-4]</td>\n      <td>True</td>\n    </tr>\n    <tr>\n      <th>46</th>\n      <td>5</td>\n      <td>151</td>\n      <td>0.306152</td>\n      <td>OffSeason</td>\n      <td>[2-3]</td>\n      <td>Nonref</td>\n      <td>[160-260]</td>\n      <td>[2-2]</td>\n      <td>True</td>\n    </tr>\n    <tr>\n      <th>47</th>\n      <td>5</td>\n      <td>129</td>\n      <td>0.304504</td>\n      <td>OffSeason</td>\n      <td>[2-3]</td>\n      <td>Nonref</td>\n      <td>[0-160]</td>\n      <td>[3-4]</td>\n      <td>False</td>\n    </tr>\n    <tr>\n      <th>48</th>\n      <td>5</td>\n      <td>35</td>\n      <td>0.299194</td>\n      <td>OffSeason</td>\n      <td>[2-3]</td>\n      <td>Standard</td>\n      <td>[160-260]</td>\n      <td>[2-2]</td>\n      <td>True</td>\n    </tr>\n    <tr>\n      <th>49</th>\n      <td>5</td>\n      <td>1019</td>\n      <td>0.298035</td>\n      <td>HighSeason</td>\n      <td>[2-3]</td>\n      <td>Nonref</td>\n      <td>[0-160]</td>\n      <td>[3-4]</td>\n      <td>True</td>\n    </tr>\n  </tbody>\n</table>\n</div>"
     },
     "metadata": {},
     "output_type": "display_data"
    }
   ],
   "source": [
    "# Recommender method\n",
    "recommendations = cb_user_item_recommender.recommend(pd.DataFrame([[1], [2], [3], [4], [5]], columns=['user_id']), items_df, 10)\n",
    "\n",
    "recommendations = pd.merge(recommendations, items_df, on='item_id', how='left')\n",
    "display(recommendations)"
   ]
  },
  {
   "cell_type": "markdown",
   "id": "advanced-eleven",
   "metadata": {},
   "source": [
    "# Tuning method"
   ]
  },
  {
   "cell_type": "code",
   "execution_count": 9,
   "id": "strange-alaska",
   "metadata": {
    "ExecuteTime": {
     "end_time": "2023-05-05T17:27:13.788393700Z",
     "start_time": "2023-05-05T17:27:13.601630400Z"
    }
   },
   "outputs": [],
   "source": [
    "from evaluation_and_testing.testing import evaluate_train_test_split_implicit\n",
    "\n",
    "seed = 6789"
   ]
  },
  {
   "cell_type": "code",
   "execution_count": 10,
   "id": "stable-theta",
   "metadata": {
    "ExecuteTime": {
     "end_time": "2023-05-05T17:27:14.994018200Z",
     "start_time": "2023-05-05T17:27:13.795375100Z"
    }
   },
   "outputs": [],
   "source": [
    "from hyperopt import hp, fmin, tpe, Trials\n",
    "import traceback\n",
    "\n",
    "def tune_recommender(recommender_class, interactions_df, items_df, \n",
    "                     param_space, max_evals=1, show_progressbar=True, seed=6789):\n",
    "    # Split into train_validation and test sets\n",
    "\n",
    "    shuffle = np.arange(len(interactions_df))\n",
    "    rng = np.random.RandomState(seed=seed)\n",
    "    rng.shuffle(shuffle)\n",
    "    shuffle = list(shuffle)\n",
    "\n",
    "    train_test_split = 0.8\n",
    "    split_index = int(len(interactions_df) * train_test_split)\n",
    "\n",
    "    train_validation = interactions_df.iloc[shuffle[:split_index]]\n",
    "    test = interactions_df.iloc[shuffle[split_index:]]\n",
    "\n",
    "    # Tune\n",
    "\n",
    "    def loss(tuned_params):\n",
    "        recommender = recommender_class(seed=seed, **tuned_params)\n",
    "        hr1, hr3, hr5, hr10, ndcg1, ndcg3, ndcg5, ndcg10 = evaluate_train_test_split_implicit(\n",
    "            recommender, train_validation, items_df, seed=seed)\n",
    "        return -hr10\n",
    "\n",
    "    n_tries = 1\n",
    "    succeded = False\n",
    "    try_id = 0\n",
    "    while not succeded and try_id < n_tries:\n",
    "        try:\n",
    "            trials = Trials()\n",
    "            best_param_set = fmin(loss, space=param_space, algo=tpe.suggest, \n",
    "                                  max_evals=max_evals, show_progressbar=show_progressbar, trials=trials, verbose=True)\n",
    "            succeded = True\n",
    "        except:\n",
    "            traceback.print_exc()\n",
    "            try_id += 1\n",
    "            \n",
    "    if not succeded:\n",
    "        return None\n",
    "        \n",
    "    # Validate\n",
    "    \n",
    "    recommender = recommender_class(seed=seed, **best_param_set)\n",
    "\n",
    "    results = [[recommender_class.__name__] + list(evaluate_train_test_split_implicit(\n",
    "        recommender, {'train': train_validation, 'test': test}, items_df, seed=seed))]\n",
    "\n",
    "    results = pd.DataFrame(results, \n",
    "                           columns=['Recommender', 'HR@1', 'HR@3', 'HR@5', 'HR@10', 'NDCG@1', 'NDCG@3', 'NDCG@5', 'NDCG@10'])\n",
    "\n",
    "    display(results)\n",
    "    \n",
    "    return best_param_set"
   ]
  },
  {
   "cell_type": "markdown",
   "id": "spiritual-orbit",
   "metadata": {},
   "source": [
    "## Tuning of the recommender\n",
    "\n",
    "<span style=\"color:red\"><font size=\"4\">**Task:**</font></span><br> \n",
    "Tune your models using the code below. You only need to put the class name of your recommender and choose an appropriate parameter space."
   ]
  },
  {
   "cell_type": "code",
   "execution_count": 16,
   "id": "dependent-capital",
   "metadata": {
    "ExecuteTime": {
     "end_time": "2023-05-05T18:52:05.409748Z",
     "start_time": "2023-05-05T18:14:00.239957100Z"
    }
   },
   "outputs": [
    {
     "name": "stdout",
     "output_type": "stream",
     "text": [
      "100%|██████████| 20/20 [35:51<00:00, 107.59s/trial, best loss: -0.177316969953449]\n"
     ]
    },
    {
     "data": {
      "text/plain": "                       Recommender     HR@1      HR@3      HR@5     HR@10  \\\n0  LinearRegressionCBUIRecommender  0.03632  0.099796  0.143245  0.178887   \n\n    NDCG@1    NDCG@3    NDCG@5  NDCG@10  \n0  0.03632  0.071347  0.088855  0.10056  ",
      "text/html": "<div>\n<style scoped>\n    .dataframe tbody tr th:only-of-type {\n        vertical-align: middle;\n    }\n\n    .dataframe tbody tr th {\n        vertical-align: top;\n    }\n\n    .dataframe thead th {\n        text-align: right;\n    }\n</style>\n<table border=\"1\" class=\"dataframe\">\n  <thead>\n    <tr style=\"text-align: right;\">\n      <th></th>\n      <th>Recommender</th>\n      <th>HR@1</th>\n      <th>HR@3</th>\n      <th>HR@5</th>\n      <th>HR@10</th>\n      <th>NDCG@1</th>\n      <th>NDCG@3</th>\n      <th>NDCG@5</th>\n      <th>NDCG@10</th>\n    </tr>\n  </thead>\n  <tbody>\n    <tr>\n      <th>0</th>\n      <td>LinearRegressionCBUIRecommender</td>\n      <td>0.03632</td>\n      <td>0.099796</td>\n      <td>0.143245</td>\n      <td>0.178887</td>\n      <td>0.03632</td>\n      <td>0.071347</td>\n      <td>0.088855</td>\n      <td>0.10056</td>\n    </tr>\n  </tbody>\n</table>\n</div>"
     },
     "metadata": {},
     "output_type": "display_data"
    },
    {
     "name": "stdout",
     "output_type": "stream",
     "text": [
      "Best parameters:\n",
      "{'n_neg_per_pos': 2.0}\n"
     ]
    }
   ],
   "source": [
    "param_space = {\n",
    "    'n_neg_per_pos': hp.quniform('n_neg_per_pos', 1, 10, 1)\n",
    "}\n",
    "\n",
    "best_param_set = tune_recommender(LinearRegressionCBUIRecommender, interactions_df, items_df,\n",
    "                                  param_space, max_evals=20, show_progressbar=True, seed=seed)\n",
    "\n",
    "print(\"Best parameters:\")\n",
    "print(best_param_set)"
   ]
  },
  {
   "cell_type": "code",
   "execution_count": null,
   "id": "palestinian-clearance",
   "metadata": {
    "ExecuteTime": {
     "start_time": "2023-05-04T22:41:43.811040100Z"
    }
   },
   "outputs": [
    {
     "name": "stdout",
     "output_type": "stream",
     "text": [
      "  0%|          | 0/100 [00:00<?, ?trial/s, best loss=?]"
     ]
    }
   ],
   "source": [
    "param_space = {\n",
    "    'n_neg_per_pos': hp.quniform('n_neg_per_pos', 1, 10, 1),\n",
    "    'C': hp.loguniform('C', np.log(0.01), np.log(100.0))\n",
    "}\n",
    "\n",
    "best_param_set = tune_recommender(SVRCBUIRecommender, interactions_df, items_df,\n",
    "                                  param_space, max_evals=100, show_progressbar=True, seed=seed)\n",
    "\n",
    "print(\"Best parameters:\")\n",
    "print(best_param_set)"
   ]
  },
  {
   "cell_type": "code",
   "execution_count": 11,
   "id": "seasonal-header",
   "metadata": {
    "ExecuteTime": {
     "end_time": "2023-05-05T04:10:11.640092200Z",
     "start_time": "2023-05-04T22:57:24.643859700Z"
    }
   },
   "outputs": [
    {
     "name": "stdout",
     "output_type": "stream",
     "text": [
      "100%|██████████| 100/100 [5:09:33<00:00, 185.73s/trial, best loss: -0.03597122302158273]  \n"
     ]
    },
    {
     "data": {
      "text/plain": "                   Recommender      HR@1      HR@3      HR@5     HR@10  \\\n0  RandomForestCBUIRecommender  0.010523  0.014596  0.022064  0.034623   \n\n     NDCG@1    NDCG@3    NDCG@5   NDCG@10  \n0  0.010523  0.012826  0.015819  0.019829  ",
      "text/html": "<div>\n<style scoped>\n    .dataframe tbody tr th:only-of-type {\n        vertical-align: middle;\n    }\n\n    .dataframe tbody tr th {\n        vertical-align: top;\n    }\n\n    .dataframe thead th {\n        text-align: right;\n    }\n</style>\n<table border=\"1\" class=\"dataframe\">\n  <thead>\n    <tr style=\"text-align: right;\">\n      <th></th>\n      <th>Recommender</th>\n      <th>HR@1</th>\n      <th>HR@3</th>\n      <th>HR@5</th>\n      <th>HR@10</th>\n      <th>NDCG@1</th>\n      <th>NDCG@3</th>\n      <th>NDCG@5</th>\n      <th>NDCG@10</th>\n    </tr>\n  </thead>\n  <tbody>\n    <tr>\n      <th>0</th>\n      <td>RandomForestCBUIRecommender</td>\n      <td>0.010523</td>\n      <td>0.014596</td>\n      <td>0.022064</td>\n      <td>0.034623</td>\n      <td>0.010523</td>\n      <td>0.012826</td>\n      <td>0.015819</td>\n      <td>0.019829</td>\n    </tr>\n  </tbody>\n</table>\n</div>"
     },
     "metadata": {},
     "output_type": "display_data"
    },
    {
     "name": "stdout",
     "output_type": "stream",
     "text": [
      "Best parameters:\n",
      "{'max_depth': 5.0, 'min_samples_split': 6.0, 'n_estimators': 185.0, 'n_neg_per_pos': 6.0}\n"
     ]
    }
   ],
   "source": [
    "param_space = {\n",
    "    'n_neg_per_pos': hp.quniform('n_neg_per_pos', 1, 10, 1),\n",
    "    'n_estimators': hp.quniform('n_estimators', 30, 300, 1),\n",
    "    'max_depth': hp.quniform('max_depth', 2, 10, 1),\n",
    "    'min_samples_split': hp.quniform('min_samples_split', 2, 30, 1)\n",
    "}\n",
    "\n",
    "best_param_set = tune_recommender(RandomForestCBUIRecommender, interactions_df, items_df,\n",
    "                                  param_space, max_evals=100, show_progressbar=True, seed=seed)\n",
    "\n",
    "print(\"Best parameters:\")\n",
    "print(best_param_set)"
   ]
  },
  {
   "cell_type": "code",
   "execution_count": 12,
   "id": "moved-gothic",
   "metadata": {
    "ExecuteTime": {
     "end_time": "2023-05-05T15:06:23.220891600Z",
     "start_time": "2023-05-05T04:10:11.640092200Z"
    }
   },
   "outputs": [
    {
     "name": "stdout",
     "output_type": "stream",
     "text": [
      "100%|██████████| 300/300 [10:53:15<00:00, 130.65s/trial, best loss: -0.05670757511637749]  \n"
     ]
    },
    {
     "data": {
      "text/plain": "              Recommender      HR@1      HR@3      HR@5     HR@10    NDCG@1  \\\n0  XGBoostCBUIRecommender  0.013917  0.025119  0.038697  0.058724  0.013917   \n\n     NDCG@3    NDCG@5   NDCG@10  \n0  0.020674  0.026224  0.032635  ",
      "text/html": "<div>\n<style scoped>\n    .dataframe tbody tr th:only-of-type {\n        vertical-align: middle;\n    }\n\n    .dataframe tbody tr th {\n        vertical-align: top;\n    }\n\n    .dataframe thead th {\n        text-align: right;\n    }\n</style>\n<table border=\"1\" class=\"dataframe\">\n  <thead>\n    <tr style=\"text-align: right;\">\n      <th></th>\n      <th>Recommender</th>\n      <th>HR@1</th>\n      <th>HR@3</th>\n      <th>HR@5</th>\n      <th>HR@10</th>\n      <th>NDCG@1</th>\n      <th>NDCG@3</th>\n      <th>NDCG@5</th>\n      <th>NDCG@10</th>\n    </tr>\n  </thead>\n  <tbody>\n    <tr>\n      <th>0</th>\n      <td>XGBoostCBUIRecommender</td>\n      <td>0.013917</td>\n      <td>0.025119</td>\n      <td>0.038697</td>\n      <td>0.058724</td>\n      <td>0.013917</td>\n      <td>0.020674</td>\n      <td>0.026224</td>\n      <td>0.032635</td>\n    </tr>\n  </tbody>\n</table>\n</div>"
     },
     "metadata": {},
     "output_type": "display_data"
    },
    {
     "name": "stdout",
     "output_type": "stream",
     "text": [
      "Best parameters:\n",
      "{'learning_rate': 0.08444445535152621, 'max_depth': 3.0, 'min_samples_split': 8.0, 'n_estimators': 265.0, 'n_neg_per_pos': 7.0}\n"
     ]
    }
   ],
   "source": [
    "# This tuning may take around 12 hours\n",
    "\n",
    "param_space = {\n",
    "    'n_neg_per_pos': hp.quniform('n_neg_per_pos', 1, 10, 1),\n",
    "    'n_estimators': hp.quniform('n_estimators', 10, 300, 1),\n",
    "    'max_depth': hp.quniform('max_depth', 2, 10, 1),\n",
    "    'min_samples_split': hp.quniform('min_samples_split', 2, 30, 1),\n",
    "    'learning_rate': hp.loguniform('learning_rate', np.log(0.001), np.log(0.1))\n",
    "}\n",
    "\n",
    "best_param_set = tune_recommender(XGBoostCBUIRecommender, interactions_df, items_df,\n",
    "                                  param_space, max_evals=300, show_progressbar=True, seed=seed)\n",
    "\n",
    "print(\"Best parameters:\")\n",
    "print(best_param_set)"
   ]
  },
  {
   "cell_type": "markdown",
   "id": "accredited-strap",
   "metadata": {},
   "source": [
    "# Final evaluation\n",
    "\n",
    "<span style=\"color:red\"><font size=\"4\">**Task:**</font></span><br> \n",
    "Run the final evaluation of your recommender and present its results against the Amazon recommender's results. You can present results for several of your recommenders. You just need to give the class name of your recommender and its tuned parameters below. If you present results for several recommenders, you should add a separate cell for each recommender and change the names of the DataFrames containing results."
   ]
  },
  {
   "cell_type": "code",
   "execution_count": 11,
   "id": "given-homework",
   "metadata": {
    "ExecuteTime": {
     "end_time": "2023-05-05T17:29:27.980218600Z",
     "start_time": "2023-05-05T17:27:14.982050900Z"
    }
   },
   "outputs": [
    {
     "data": {
      "text/plain": "                       Recommender     HR@1      HR@3      HR@5     HR@10  \\\n0  LinearRegressionCBUIRecommender  0.03632  0.099796  0.143245  0.187712   \n\n    NDCG@1    NDCG@3    NDCG@5   NDCG@10  \n0  0.03632  0.071347  0.088855  0.103535  ",
      "text/html": "<div>\n<style scoped>\n    .dataframe tbody tr th:only-of-type {\n        vertical-align: middle;\n    }\n\n    .dataframe tbody tr th {\n        vertical-align: top;\n    }\n\n    .dataframe thead th {\n        text-align: right;\n    }\n</style>\n<table border=\"1\" class=\"dataframe\">\n  <thead>\n    <tr style=\"text-align: right;\">\n      <th></th>\n      <th>Recommender</th>\n      <th>HR@1</th>\n      <th>HR@3</th>\n      <th>HR@5</th>\n      <th>HR@10</th>\n      <th>NDCG@1</th>\n      <th>NDCG@3</th>\n      <th>NDCG@5</th>\n      <th>NDCG@10</th>\n    </tr>\n  </thead>\n  <tbody>\n    <tr>\n      <th>0</th>\n      <td>LinearRegressionCBUIRecommender</td>\n      <td>0.03632</td>\n      <td>0.099796</td>\n      <td>0.143245</td>\n      <td>0.187712</td>\n      <td>0.03632</td>\n      <td>0.071347</td>\n      <td>0.088855</td>\n      <td>0.103535</td>\n    </tr>\n  </tbody>\n</table>\n</div>"
     },
     "metadata": {},
     "output_type": "display_data"
    }
   ],
   "source": [
    "cb_user_item_recommender = LinearRegressionCBUIRecommender(**{'n_neg_per_pos': 9})  # Initialize your recommender here with the best params from tuning\n",
    "\n",
    "# Give the name of your recommender in the line below\n",
    "linear_cbui_tts_results = [['LinearRegressionCBUIRecommender'] + list(evaluate_train_test_split_implicit(cb_user_item_recommender, interactions_df, items_df))]\n",
    "linear_cbui_tts_results = pd.DataFrame(linear_cbui_tts_results, columns=['Recommender', 'HR@1', 'HR@3', 'HR@5', 'HR@10', 'NDCG@1', 'NDCG@3', 'NDCG@5', 'NDCG@10'])\n",
    "display(linear_cbui_tts_results)"
   ]
  },
  {
   "cell_type": "code",
   "execution_count": 12,
   "outputs": [
    {
     "data": {
      "text/plain": "                   Recommender      HR@1      HR@3      HR@5     HR@10  \\\n0  RandomForestCBUIRecommender  0.002037  0.004752  0.007807  0.023082   \n\n     NDCG@1    NDCG@3    NDCG@5   NDCG@10  \n0  0.002037  0.003661  0.004902  0.009754  ",
      "text/html": "<div>\n<style scoped>\n    .dataframe tbody tr th:only-of-type {\n        vertical-align: middle;\n    }\n\n    .dataframe tbody tr th {\n        vertical-align: top;\n    }\n\n    .dataframe thead th {\n        text-align: right;\n    }\n</style>\n<table border=\"1\" class=\"dataframe\">\n  <thead>\n    <tr style=\"text-align: right;\">\n      <th></th>\n      <th>Recommender</th>\n      <th>HR@1</th>\n      <th>HR@3</th>\n      <th>HR@5</th>\n      <th>HR@10</th>\n      <th>NDCG@1</th>\n      <th>NDCG@3</th>\n      <th>NDCG@5</th>\n      <th>NDCG@10</th>\n    </tr>\n  </thead>\n  <tbody>\n    <tr>\n      <th>0</th>\n      <td>RandomForestCBUIRecommender</td>\n      <td>0.002037</td>\n      <td>0.004752</td>\n      <td>0.007807</td>\n      <td>0.023082</td>\n      <td>0.002037</td>\n      <td>0.003661</td>\n      <td>0.004902</td>\n      <td>0.009754</td>\n    </tr>\n  </tbody>\n</table>\n</div>"
     },
     "metadata": {},
     "output_type": "display_data"
    }
   ],
   "source": [
    "cb_user_item_recommender = RandomForestCBUIRecommender(**{'n_neg_per_pos': 6, 'n_estimators': 185, 'max_depth': 5, 'min_samples_split': 6})\n",
    "\n",
    "forest_cbui_tts_results =[[\"RandomForestCBUIRecommender\"] + list(evaluate_train_test_split_implicit(cb_user_item_recommender, interactions_df, items_df))]\n",
    "forest_cbui_tts_results = pd.DataFrame(forest_cbui_tts_results, columns=['Recommender', 'HR@1', 'HR@3', 'HR@5', 'HR@10', 'NDCG@1', 'NDCG@3', 'NDCG@5', 'NDCG@10'])\n",
    "display(forest_cbui_tts_results)"
   ],
   "metadata": {
    "collapsed": false,
    "ExecuteTime": {
     "end_time": "2023-05-05T17:32:52.822737200Z",
     "start_time": "2023-05-05T17:29:27.983202600Z"
    }
   }
  },
  {
   "cell_type": "code",
   "execution_count": 13,
   "outputs": [
    {
     "data": {
      "text/plain": "              Recommender      HR@1      HR@3     HR@5     HR@10    NDCG@1  \\\n0  XGBoostCBUIRecommender  0.014257  0.031229  0.04243  0.056348  0.014257   \n\n     NDCG@3    NDCG@5   NDCG@10  \n0  0.023898  0.028455  0.032823  ",
      "text/html": "<div>\n<style scoped>\n    .dataframe tbody tr th:only-of-type {\n        vertical-align: middle;\n    }\n\n    .dataframe tbody tr th {\n        vertical-align: top;\n    }\n\n    .dataframe thead th {\n        text-align: right;\n    }\n</style>\n<table border=\"1\" class=\"dataframe\">\n  <thead>\n    <tr style=\"text-align: right;\">\n      <th></th>\n      <th>Recommender</th>\n      <th>HR@1</th>\n      <th>HR@3</th>\n      <th>HR@5</th>\n      <th>HR@10</th>\n      <th>NDCG@1</th>\n      <th>NDCG@3</th>\n      <th>NDCG@5</th>\n      <th>NDCG@10</th>\n    </tr>\n  </thead>\n  <tbody>\n    <tr>\n      <th>0</th>\n      <td>XGBoostCBUIRecommender</td>\n      <td>0.014257</td>\n      <td>0.031229</td>\n      <td>0.04243</td>\n      <td>0.056348</td>\n      <td>0.014257</td>\n      <td>0.023898</td>\n      <td>0.028455</td>\n      <td>0.032823</td>\n    </tr>\n  </tbody>\n</table>\n</div>"
     },
     "metadata": {},
     "output_type": "display_data"
    }
   ],
   "source": [
    "cb_user_item_recommender = XGBoostCBUIRecommender(**{'n_neg_per_pos': 7, 'n_estimators': 265, 'max_depth': 3, 'min_samples_split': 8, 'learning_rate': 0.08444445535152621})\n",
    "\n",
    "xg_boost_cbui_tts_results = [[\"XGBoostCBUIRecommender\"] + list(evaluate_train_test_split_implicit(cb_user_item_recommender, interactions_df, items_df))]\n",
    "xg_boost_cbui_tts_results = pd.DataFrame(xg_boost_cbui_tts_results, columns=['Recommender', 'HR@1', 'HR@3', 'HR@5', 'HR@10', 'NDCG@1', 'NDCG@3', 'NDCG@5', 'NDCG@10'])\n",
    "display(xg_boost_cbui_tts_results)"
   ],
   "metadata": {
    "collapsed": false,
    "ExecuteTime": {
     "end_time": "2023-05-05T17:35:50.318193Z",
     "start_time": "2023-05-05T17:32:52.826755Z"
    }
   }
  },
  {
   "cell_type": "code",
   "execution_count": 14,
   "id": "suited-nomination",
   "metadata": {
    "ExecuteTime": {
     "end_time": "2023-05-05T17:39:36.112453100Z",
     "start_time": "2023-05-05T17:35:50.321184400Z"
    }
   },
   "outputs": [
    {
     "data": {
      "text/plain": "         Recommender      HR@1     HR@3      HR@5     HR@10    NDCG@1  \\\n0  AmazonRecommender  0.035981  0.09165  0.132043  0.185336  0.035981   \n\n     NDCG@3    NDCG@5   NDCG@10  \n0  0.068082  0.084824  0.102078  ",
      "text/html": "<div>\n<style scoped>\n    .dataframe tbody tr th:only-of-type {\n        vertical-align: middle;\n    }\n\n    .dataframe tbody tr th {\n        vertical-align: top;\n    }\n\n    .dataframe thead th {\n        text-align: right;\n    }\n</style>\n<table border=\"1\" class=\"dataframe\">\n  <thead>\n    <tr style=\"text-align: right;\">\n      <th></th>\n      <th>Recommender</th>\n      <th>HR@1</th>\n      <th>HR@3</th>\n      <th>HR@5</th>\n      <th>HR@10</th>\n      <th>NDCG@1</th>\n      <th>NDCG@3</th>\n      <th>NDCG@5</th>\n      <th>NDCG@10</th>\n    </tr>\n  </thead>\n  <tbody>\n    <tr>\n      <th>0</th>\n      <td>AmazonRecommender</td>\n      <td>0.035981</td>\n      <td>0.09165</td>\n      <td>0.132043</td>\n      <td>0.185336</td>\n      <td>0.035981</td>\n      <td>0.068082</td>\n      <td>0.084824</td>\n      <td>0.102078</td>\n    </tr>\n  </tbody>\n</table>\n</div>"
     },
     "metadata": {},
     "output_type": "display_data"
    }
   ],
   "source": [
    "from recommenders.amazon_recommender import AmazonRecommender\n",
    "\n",
    "amazon_recommender = AmazonRecommender()\n",
    "\n",
    "amazon_tts_results = [['AmazonRecommender'] + list(evaluate_train_test_split_implicit(amazon_recommender, interactions_df, items_df))]\n",
    "amazon_tts_results = pd.DataFrame(amazon_tts_results, columns=['Recommender', 'HR@1', 'HR@3', 'HR@5', 'HR@10', 'NDCG@1', 'NDCG@3', 'NDCG@5', 'NDCG@10'])\n",
    "display(amazon_tts_results)"
   ]
  },
  {
   "cell_type": "code",
   "execution_count": 15,
   "id": "moderate-printing",
   "metadata": {
    "ExecuteTime": {
     "end_time": "2023-05-05T17:39:36.377685700Z",
     "start_time": "2023-05-05T17:39:36.114474900Z"
    }
   },
   "outputs": [
    {
     "data": {
      "text/plain": "                       Recommender      HR@1      HR@3      HR@5     HR@10  \\\n0  LinearRegressionCBUIRecommender  0.036320  0.099796  0.143245  0.187712   \n1      RandomForestCBUIRecommender  0.002037  0.004752  0.007807  0.023082   \n2           XGBoostCBUIRecommender  0.014257  0.031229  0.042430  0.056348   \n3                AmazonRecommender  0.035981  0.091650  0.132043  0.185336   \n\n     NDCG@1    NDCG@3    NDCG@5   NDCG@10  \n0  0.036320  0.071347  0.088855  0.103535  \n1  0.002037  0.003661  0.004902  0.009754  \n2  0.014257  0.023898  0.028455  0.032823  \n3  0.035981  0.068082  0.084824  0.102078  ",
      "text/html": "<div>\n<style scoped>\n    .dataframe tbody tr th:only-of-type {\n        vertical-align: middle;\n    }\n\n    .dataframe tbody tr th {\n        vertical-align: top;\n    }\n\n    .dataframe thead th {\n        text-align: right;\n    }\n</style>\n<table border=\"1\" class=\"dataframe\">\n  <thead>\n    <tr style=\"text-align: right;\">\n      <th></th>\n      <th>Recommender</th>\n      <th>HR@1</th>\n      <th>HR@3</th>\n      <th>HR@5</th>\n      <th>HR@10</th>\n      <th>NDCG@1</th>\n      <th>NDCG@3</th>\n      <th>NDCG@5</th>\n      <th>NDCG@10</th>\n    </tr>\n  </thead>\n  <tbody>\n    <tr>\n      <th>0</th>\n      <td>LinearRegressionCBUIRecommender</td>\n      <td>0.036320</td>\n      <td>0.099796</td>\n      <td>0.143245</td>\n      <td>0.187712</td>\n      <td>0.036320</td>\n      <td>0.071347</td>\n      <td>0.088855</td>\n      <td>0.103535</td>\n    </tr>\n    <tr>\n      <th>1</th>\n      <td>RandomForestCBUIRecommender</td>\n      <td>0.002037</td>\n      <td>0.004752</td>\n      <td>0.007807</td>\n      <td>0.023082</td>\n      <td>0.002037</td>\n      <td>0.003661</td>\n      <td>0.004902</td>\n      <td>0.009754</td>\n    </tr>\n    <tr>\n      <th>2</th>\n      <td>XGBoostCBUIRecommender</td>\n      <td>0.014257</td>\n      <td>0.031229</td>\n      <td>0.042430</td>\n      <td>0.056348</td>\n      <td>0.014257</td>\n      <td>0.023898</td>\n      <td>0.028455</td>\n      <td>0.032823</td>\n    </tr>\n    <tr>\n      <th>3</th>\n      <td>AmazonRecommender</td>\n      <td>0.035981</td>\n      <td>0.091650</td>\n      <td>0.132043</td>\n      <td>0.185336</td>\n      <td>0.035981</td>\n      <td>0.068082</td>\n      <td>0.084824</td>\n      <td>0.102078</td>\n    </tr>\n  </tbody>\n</table>\n</div>"
     },
     "metadata": {},
     "output_type": "display_data"
    }
   ],
   "source": [
    "tts_results = pd.concat([linear_cbui_tts_results, forest_cbui_tts_results, xg_boost_cbui_tts_results, amazon_tts_results]).reset_index(drop=True)\n",
    "display(tts_results)"
   ]
  }
 ],
 "metadata": {
  "kernelspec": {
   "display_name": "Python 3",
   "language": "python",
   "name": "python3"
  },
  "language_info": {
   "codemirror_mode": {
    "name": "ipython",
    "version": 3
   },
   "file_extension": ".py",
   "mimetype": "text/x-python",
   "name": "python",
   "nbconvert_exporter": "python",
   "pygments_lexer": "ipython3",
   "version": "3.8.8"
  }
 },
 "nbformat": 4,
 "nbformat_minor": 5
}
